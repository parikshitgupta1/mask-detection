{
  "nbformat": 4,
  "nbformat_minor": 0,
  "metadata": {
    "kernelspec": {
      "display_name": "Python 3",
      "language": "python",
      "name": "python3"
    },
    "language_info": {
      "codemirror_mode": {
        "name": "ipython",
        "version": 3
      },
      "file_extension": ".py",
      "mimetype": "text/x-python",
      "name": "python",
      "nbconvert_exporter": "python",
      "pygments_lexer": "ipython3",
      "version": "3.7.6"
    },
    "colab": {
      "name": "Copy of 4_Train_Model.ipynb",
      "provenance": [],
      "toc_visible": true,
      "include_colab_link": true
    },
    "accelerator": "GPU"
  },
  "cells": [
    {
      "cell_type": "markdown",
      "metadata": {
        "id": "view-in-github",
        "colab_type": "text"
      },
      "source": [
       
      ]
    },
    {
      "cell_type": "markdown",
      "metadata": {
        "id": "nEZrJutQ8DuV",
        "colab_type": "text"
      },
      "source": [
        "\n",
        "<br> \n",
        "# <span style=\"font-family:Didot; font-size:3em;\"> Parikshit Gupta </span>\n"
      ]
    },
    {
      "cell_type": "markdown",
      "metadata": {
        "id": "olMsSiKF8DuW",
        "colab_type": "text"
      },
      "source": [
        "<a href=\"https://github.com/parikshitgupta1/mask-detection/blob/master/4_Train_Model.ipynb\" target=\"_parent\"><img src=\"https://img.shields.io/static/v1?logo=GitHub&label=&color=333333&style=flat&message=View%20on%20GitHub\" alt=\"View in GitHub\"></a>"
      ]
    },
    {
      "cell_type": "markdown",
      "metadata": {
        "id": "uG4FfhYT8DuX",
        "colab_type": "text"
      },
      "source": [
        "\n",
        "\n",
        "# Tensorflow - Objection Detection API Training#\n",
        "\n",
        "<img src=\"https://miro.medium.com/max/128/1*cKG1LJvVTaWqSkYSyVqtsQ.png\" alt=\"Visit my Blog\">\n",
        "\n",
        "We are now ready to get our hands dirty working directly with Tensorflow!\n",
        "\n",
        "We have one final piece of data preperation to do which is create TF Records then we can move to training our model!\n",
        "\n",
        "At the time of writing, the Tensorflow Object Detection API did not support v2 of the Tensorflow framework therefore we will be working with v1.15"
      ]
    },
    {
      "cell_type": "markdown",
      "metadata": {
        "id": "PSoJTJxz6XyO",
        "colab_type": "text"
      },
      "source": [
        "# Setup"
      ]
    },
    {
      "cell_type": "markdown",
      "metadata": {
        "id": "K3822sXCfi9l",
        "colab_type": "text"
      },
      "source": [
        "## Confirm GPU is present"
      ]
    },
    {
      "cell_type": "code",
      "metadata": {
        "id": "cJ1pkRsDJHzv",
        "colab_type": "code",
        "colab": {}
      },
      "source": [
        "!nvidia-smi"
      ],
      "execution_count": null,
      "outputs": []
    },
    {
      "cell_type": "markdown",
      "metadata": {
        "id": "kfmzWtRC8DuX",
        "colab_type": "text"
      },
      "source": [
        "## Install required libraries\n",
        "Be sure to click on the **restart** button after running this cell"
      ]
    },
    {
      "cell_type": "code",
      "metadata": {
        "id": "Hs9TaVa-fyh1",
        "colab_type": "code",
        "colab": {}
      },
      "source": [
        "!pip install -U --pre tensorflow-gpu==\"1.*\"\n",
        "!pip install tf_slim\n",
        "!apt-get update && apt-get upgrade -y\n",
        "!pip install numpy==1.16 #This version is required due to a bug. After installing this version, the runtime has to be restarted."
      ],
      "execution_count": null,
      "outputs": []
    },
    {
      "cell_type": "markdown",
      "metadata": {
        "id": "rlo8K8eG6s33",
        "colab_type": "text"
      },
      "source": [
        "Make sure you have `pycocotools` installed"
      ]
    },
    {
      "cell_type": "code",
      "metadata": {
        "id": "-p3usomh6tDu",
        "colab_type": "code",
        "colab": {}
      },
      "source": [
        "!pip install pycocotools"
      ],
      "execution_count": null,
      "outputs": []
    },
    {
      "cell_type": "markdown",
      "metadata": {
        "id": "545bMhDu62xP",
        "colab_type": "text"
      },
      "source": [
        "Get `tensorflow/models` or `cd` to parent directory of the repository."
      ]
    },
    {
      "cell_type": "code",
      "metadata": {
        "id": "WW6usY8wRbHJ",
        "colab_type": "code",
        "colab": {}
      },
      "source": [
        "!apt-get install python-pil python-lxml \n",
        "\n",
        "!pip install Cython\n",
        "!pip install contextlib2\n",
        "!pip install matplotlib\n",
        "!pip install wget\n",
        "\n",
        "import os\n",
        "import pathlib\n",
        "import wget\n",
        "\n",
        "\n",
        "if \"models\" in pathlib.Path.cwd().parts:\n",
        "  while \"models\" in pathlib.Path.cwd().parts:\n",
        "    os.chdir('..')\n",
        "elif not pathlib.Path('models').exists():\n",
        "  !git clone --depth 1 https://github.com/tensorflow/models\n",
        "\n",
        "os.environ['PYTHONPATH'] += \":/content/models/research/:/content/models/research/slim\""
      ],
      "execution_count": null,
      "outputs": []
    },
    {
      "cell_type": "markdown",
      "metadata": {
        "id": "vm6cb83w68Cu",
        "colab_type": "text"
      },
      "source": [
        "Compile protobufs and install the object_detection package"
      ]
    },
    {
      "cell_type": "code",
      "metadata": {
        "id": "18xFwdsV66qH",
        "colab_type": "code",
        "colab": {}
      },
      "source": [
        "%%bash\n",
        "cd /content/models/research/\n",
        "protoc object_detection/protos/*.proto --python_out=."
      ],
      "execution_count": null,
      "outputs": []
    },
    {
      "cell_type": "code",
      "metadata": {
        "id": "GHXa7VA76_vQ",
        "colab_type": "code",
        "colab": {}
      },
      "source": [
        "%%bash \n",
        "cd /content/models/research\n",
        "pip install ."
      ],
      "execution_count": null,
      "outputs": []
    },
    {
      "cell_type": "code",
      "metadata": {
        "id": "Z1sjzSUuifGw",
        "colab_type": "code",
        "colab": {}
      },
      "source": [
        "%%bash\n",
        "cd /content/models/research/object_detection/builders/\n",
        "python model_builder_test.py"
      ],
      "execution_count": null,
      "outputs": []
    },
    {
      "cell_type": "markdown",
      "metadata": {
        "id": "CZfgWeVm7B9W",
        "colab_type": "text"
      },
      "source": [
        "# Imports & Configuration"
      ]
    },
    {
      "cell_type": "code",
      "metadata": {
        "id": "OVVgHA7c7b4_",
        "colab_type": "code",
        "colab": {}
      },
      "source": [
        "!wget https://raw.githubusercontent.com/parikshitgupta1/mask-detection/master/config/constants.py\n",
        "from constants import *"
      ],
      "execution_count": null,
      "outputs": []
    },
    {
      "cell_type": "code",
      "metadata": {
        "id": "G2O_is2siGuq",
        "colab_type": "code",
        "colab": {}
      },
      "source": [
        "!curl {PRETRAINED_MODEL_CONFIG} -o {CONFIG_DIR}pipeline.config\n",
        "wget.download(LABEL_MAP,DATASET_DIR_PREP_RECORD)\n",
        "wget.download(TF_RECORD,PRE_PROCESS_DIR)\n",
        "%cd {TF_MODEL_DIR}\n",
        "!wget {PRETRAINED_MODEL_URL}\n",
        "!tar -xzf {PRETRAINED_MODEL_NAME}.tar.gz"
      ],
      "execution_count": null,
      "outputs": []
    },
    {
      "cell_type": "markdown",
      "metadata": {
        "id": "kiecZysJ-khD",
        "colab_type": "text"
      },
      "source": [
        "## Connect to Google Drive"
      ]
    },
    {
      "cell_type": "code",
      "metadata": {
        "id": "ownRZYo_-eLG",
        "colab_type": "code",
        "colab": {}
      },
      "source": [
        "from google.colab import drive\n",
        "\n",
        "drive.mount('/content/drive/')"
      ],
      "execution_count": null,
      "outputs": []
    },
    {
      "cell_type": "markdown",
      "metadata": {
        "id": "0rMllIVy-etr",
        "colab_type": "text"
      },
      "source": [
        "## Extract dataset ###"
      ]
    },
    {
      "cell_type": "code",
      "metadata": {
        "id": "53jAn5YD-rH0",
        "colab_type": "code",
        "colab": {}
      },
      "source": [
        "%cd {DRIVE_DEV}\n",
        "%cp part3-datasetv6.zip /content/\n",
        "%cd /\n",
        "!unzip -o /content/part3-datasetv6.zip"
      ],
      "execution_count": null,
      "outputs": []
    },
    {
      "cell_type": "markdown",
      "metadata": {
        "id": "Ly-yIQs68Duc",
        "colab_type": "text"
      },
      "source": [
        "# Prepare TFRecord Files ##\n",
        "\n",
        "Now that we have generated our annotations and split our dataset into the desired training and testing subsets, it is time to convert our annotations into the so called TFRecord format.\n",
        "\n",
        "Most of the batch operations aren’t done directly from images, rather they are converted into a single tfrecord file (images which are numpy arrays and labels which are a list of strings)."
      ]
    },
    {
      "cell_type": "markdown",
      "metadata": {
        "id": "twGB0Q598Dug",
        "colab_type": "text"
      },
      "source": [
        "## Generate the TF Records\n",
        "Amend paths as "
      ]
    },
    {
      "cell_type": "code",
      "metadata": {
        "id": "yZ8QbEqH8Dug",
        "colab_type": "code",
        "colab": {}
      },
      "source": [
        "%cd {PRE_PROCESS_DIR}\n",
        "!python generate_tfrecord.py --csv_input=\"{DATASET_DIR_PREP_RECORD}/train_labels.csv\" --output_path=\"{DATASET_DIR_PREP_RECORD}/train.record\" --img_path=\"{DATASET_DIR_PREP_TRAIN_IMG}\" --label_map=\"{DATASET_DIR_PREP_RECORD}/label_map.pbtxt\"\n",
        "!python generate_tfrecord.py --csv_input=\"{DATASET_DIR_PREP_RECORD}/test_labels.csv\" --output_path=\"{DATASET_DIR_PREP_RECORD}/test.record\" --img_path=\"{DATASET_DIR_PREP_TEST_IMG}\" --label_map=\"{DATASET_DIR_PREP_RECORD}/label_map.pbtxt\""
      ],
      "execution_count": null,
      "outputs": []
    },
    {
      "cell_type": "markdown",
      "metadata": {
        "id": "-0rR2cr28Duj",
        "colab_type": "text"
      },
      "source": [
        "# Train"
      ]
    },
    {
      "cell_type": "markdown",
      "metadata": {
        "id": "yGBKSmgmwAIM",
        "colab_type": "text"
      },
      "source": [
        "## Check Remaining time"
      ]
    },
    {
      "cell_type": "code",
      "metadata": {
        "id": "zSbmoBLv_HKg",
        "colab_type": "code",
        "colab": {}
      },
      "source": [
        "import time, psutil\n",
        "Start = time.time()- psutil.boot_time()\n",
        "Left= 12*3600 - Start\n",
        "print('Time remaining for this session is: ', Left/3600)"
      ],
      "execution_count": null,
      "outputs": []
    },
    {
      "cell_type": "markdown",
      "metadata": {
        "id": "P4YBSWNRvxcN",
        "colab_type": "text"
      },
      "source": [
        "## Start Tensorboard"
      ]
    },
    {
      "cell_type": "code",
      "metadata": {
        "id": "wvppf7H0gLs7",
        "colab_type": "code",
        "colab": {}
      },
      "source": [
        "%reload_ext tensorboard\n",
        "%tensorboard --logdir={CKPT_DIR}/"
      ],
      "execution_count": null,
      "outputs": []
    },
    {
      "cell_type": "markdown",
      "metadata": {
        "id": "zfcM7476s2ZF",
        "colab_type": "text"
      },
      "source": [
        "### Refresh pipeline config (when developing)"
      ]
    },
    {
      "cell_type": "code",
      "metadata": {
        "id": "UsdfrIbhihly",
        "colab_type": "code",
        "colab": {}
      },
      "source": [
        "!rm -r {CKPT_DIR}/*\n",
        "!rm {CONFIG_DIR}pipeline.config\n",
        "!curl {PRETRAINED_MODEL_CONFIG} -o {CONFIG_DIR}pipeline.config"
      ],
      "execution_count": null,
      "outputs": []
    },
    {
      "cell_type": "markdown",
      "metadata": {
        "id": "loEjZXA8wQLj",
        "colab_type": "text"
      },
      "source": [
        "## Start the training\n"
      ]
    },
    {
      "cell_type": "code",
      "metadata": {
        "id": "EfPLG4uDiic6",
        "colab_type": "code",
        "cellView": "both",
        "colab": {}
      },
      "source": [
        "%cd /content\n",
        "!python /content/models/research/object_detection/model_main.py \\\n",
        "    --alsologtostderr \\\n",
        "    --pipeline_config_path={CONFIG_DIR}pipeline.config \\\n",
        "    --model_dir={CKPT_DIR} \\\n",
        "    --sample_1_of_n_eval_examples=1 \\\n",
        "    --sample_1_of_n_eval_on_train_examples=5\n",
        "    "
      ],
      "execution_count": null,
      "outputs": []
    },
    {
      "cell_type": "markdown",
      "metadata": {
        "id": "zlLYJvXlqUfs",
        "colab_type": "text"
      },
      "source": [
        "### Export TF Lite SSD Graph"
      ]
    },
    {
      "cell_type": "code",
      "metadata": {
        "id": "fBF-secignz_",
        "colab_type": "code",
        "colab": {}
      },
      "source": [
        "!python {BASE_DIR}/models/research/object_detection/export_tflite_ssd_graph.py \\\n",
        "--pipeline_config_path={CONFIG_DIR}/pipeline.config \\\n",
        "--trained_checkpoint_prefix={CKPT_DIR}/model.ckpt-246 \\\n",
        "--output_directory={TF_LITE_GRAPH} \\\n",
        "--add_postprocessing_op=true"
      ],
      "execution_count": null,
      "outputs": []
    },
    {
      "cell_type": "markdown",
      "metadata": {
        "id": "OeoDDohzqdxU",
        "colab_type": "text"
      },
      "source": [
        "### Convert Graph to TF Lite Model"
      ]
    },
    {
      "cell_type": "code",
      "metadata": {
        "id": "OYXI4aJygouh",
        "colab_type": "code",
        "colab": {}
      },
      "source": [
        "!tflite_convert \\\n",
        "--output_file=\"{TF_LITE_MODEL}/detect.tflite\" \\\n",
        "--graph_def_file=\"{TF_LITE_GRAPH}/tflite_graph.pb\" \\\n",
        "--inference_type=QUANTIZED_UINT8 \\\n",
        "--input_arrays=\"{INPUT_TENSORS}\" \\\n",
        "--output_arrays=\"{OUTPUT_TENSORS}\"  \\\n",
        "--mean_values=128 \\\n",
        "--std_dev_values=128 \\\n",
        "--input_shapes=1,300,300,3 \\\n",
        "--change_concat_input_ranges=false \\\n",
        "--allow_nudging_weights_to_use_fast_gemm_kernel=true \\\n",
        "--allow_custom_ops \\\n",
        "--output_format=TFLITE \\\n",
        "--default_ranges_min=0 \\\n",
        "--default_ranges_max=255"
      ],
      "execution_count": null,
      "outputs": []
    },
    {
      "cell_type": "markdown",
      "metadata": {
        "id": "_DqazGvph3wi",
        "colab_type": "text"
      },
      "source": [
        "# Save "
      ]
    },
    {
      "cell_type": "markdown",
      "metadata": {
        "id": "EKqgRl3r1tar",
        "colab_type": "text"
      },
      "source": [
        "## Model checkpoints"
      ]
    },
    {
      "cell_type": "code",
      "metadata": {
        "id": "JixbhiqB1tkw",
        "colab_type": "code",
        "colab": {}
      },
      "source": [
        "!zip -r model_checkpointsv3.zip {CKPT_DIR}\n",
        "!gsutil cp model_checkpointsv3.zip {DRIVE_DEV}"
      ],
      "execution_count": null,
      "outputs": []
    },
    {
      "cell_type": "markdown",
      "metadata": {
        "id": "e3TGSvMOqlyM",
        "colab_type": "text"
      },
      "source": [
        "### TF Lite Model"
      ]
    },
    {
      "cell_type": "code",
      "metadata": {
        "id": "ksWvg9iggtbw",
        "colab_type": "code",
        "colab": {}
      },
      "source": [
        "!zip -r part5-tflite-modelv7.zip {TF_LITE_MODEL}\n",
        "!gsutil cp part5-tflite-modelv7.zip {DRIVE_DEV}"
      ],
      "execution_count": null,
      "outputs": []
    }
  ]
}
